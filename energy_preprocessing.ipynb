{
 "cells": [
  {
   "cell_type": "markdown",
   "metadata": {},
   "source": [
    "# Energy Appliance Preprocessing.\n",
    "\n",
    "In this paper, there are using a univariate time series dataset (e.g. the Appliance comsumption.). So we will focus our preprocessing in the \"Appliance\" column."
   ]
  },
  {
   "cell_type": "code",
   "execution_count": null,
   "metadata": {},
   "outputs": [],
   "source": [
    "import pandas as pd\n",
    "import numpy as np\n",
    "import matplotlib.pyplot as plt\n",
    "from src.utils import data_helpers\n",
    "from src.utils import utils"
   ]
  },
  {
   "cell_type": "code",
   "execution_count": null,
   "metadata": {},
   "outputs": [],
   "source": [
    "SAVE_FOLDER = \"data/energy/preprocessed\""
   ]
  },
  {
   "cell_type": "code",
   "execution_count": null,
   "metadata": {},
   "outputs": [],
   "source": [
    "df = pd.read_csv(\"data/energy/energydata_complete.csv\")\n",
    "\n",
    "df['date'] = pd.to_datetime(df['date'])\n",
    "df = df.set_index([\"date\"])\n",
    "\n",
    "df.head()"
   ]
  },
  {
   "cell_type": "code",
   "execution_count": null,
   "metadata": {},
   "outputs": [],
   "source": [
    "df.loc[\"2016-01-12\":\"2016-01-13 00:00:00\"][\"Appliances\"].plot(figsize=(18, 5), grid=True, title='Visualization of Appliance Data', style=\".-\")"
   ]
  },
  {
   "cell_type": "code",
   "execution_count": null,
   "metadata": {},
   "outputs": [],
   "source": [
    "normalized_dataset = data_helpers.normalize(df[\"Appliances\"])"
   ]
  },
  {
   "cell_type": "markdown",
   "metadata": {},
   "source": [
    "# Make \"In Sample\" Dataset."
   ]
  },
  {
   "cell_type": "markdown",
   "metadata": {},
   "source": [
    "### Style Dataset "
   ]
  },
  {
   "cell_type": "code",
   "execution_count": null,
   "metadata": {},
   "outputs": [],
   "source": [
    "style_sequences = data_helpers.make_dataset(normalized_dataset.values)\n",
    "\n",
    "style_train, style_test = data_helpers.train_test_split(style_sequences)\n",
    "\n",
    "np.save(f\"{SAVE_FOLDER}/style_train.npy\", style_train)\n",
    "np.save(f\"{SAVE_FOLDER}/style_test.npy\", style_test)"
   ]
  },
  {
   "cell_type": "markdown",
   "metadata": {},
   "source": [
    "### \"In Sample\" Dataset."
   ]
  },
  {
   "cell_type": "code",
   "execution_count": null,
   "metadata": {},
   "outputs": [],
   "source": [
    "rng = np.random.default_rng() # Applying the new numpy Generator.\n",
    "\n",
    "in_sample_train = rng.permutation(style_train)\n",
    "in_sample_test = rng.permutation(style_test)\n",
    "\n",
    "np.save(f\"{SAVE_FOLDER}/in_sample_train.npy\", in_sample_train)\n",
    "np.save(f\"{SAVE_FOLDER}/in_sample_test.npy\", in_sample_test)"
   ]
  },
  {
   "cell_type": "code",
   "execution_count": null,
   "metadata": {},
   "outputs": [],
   "source": [
    "utils.plot_several_sequence(in_sample_train, 5)"
   ]
  },
  {
   "cell_type": "markdown",
   "metadata": {},
   "source": [
    "### \"Perturbed\" Dataset."
   ]
  },
  {
   "cell_type": "code",
   "execution_count": null,
   "metadata": {},
   "outputs": [],
   "source": [
    "perturbed_train = data_helpers.make_perturbed_dataset(style_train)\n",
    "perturbed_test = data_helpers.make_perturbed_dataset(style_test)\n",
    "\n",
    "np.save(f\"{SAVE_FOLDER}/perturbed_train.npy\", perturbed_train)\n",
    "np.save(f\"{SAVE_FOLDER}/perturbed_test.npy\", perturbed_test)\n",
    "\n",
    "utils.plot_several_sequence(perturbed_train, 5)"
   ]
  }
 ],
 "metadata": {
  "kernelspec": {
   "display_name": "tf2",
   "language": "python",
   "name": "python3"
  },
  "language_info": {
   "codemirror_mode": {
    "name": "ipython",
    "version": 3
   },
   "file_extension": ".py",
   "mimetype": "text/x-python",
   "name": "python",
   "nbconvert_exporter": "python",
   "pygments_lexer": "ipython3",
   "version": "3.10.0"
  }
 },
 "nbformat": 4,
 "nbformat_minor": 2
}
